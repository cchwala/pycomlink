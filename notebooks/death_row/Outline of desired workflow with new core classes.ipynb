{
 "cells": [
  {
   "cell_type": "code",
   "execution_count": null,
   "metadata": {
    "collapsed": true
   },
   "outputs": [],
   "source": [
    "# Load data\n",
    "cmls = pycml.io.read_cmlh5('foo_bar.h5')\n",
    "\n",
    "# Look only on the first CML for now\n",
    "cml = cmls[0]\n",
    "\n",
    "# Print some info\n",
    "cml.info()\n",
    "\n",
    "# Show a map with the CML path\n",
    "cml.plot_map()\n",
    "\n",
    "#################\n",
    "# Do processing #\n",
    "#################\n",
    "\n",
    "# Get a cml-processor\n",
    "cml_proc = pycml.processors(cmls)\n",
    "# or like this\n",
    "cml_proc = cml.process()\n",
    "\n",
    "# \n",
    "cml_proc.cmlp_list[0].history()\n",
    "\n",
    "# \n",
    "\n",
    "####################\n",
    "# Do spatial stuff #\n",
    "####################\n",
    "interpol = Spat_interpol(cmlp_list, 'IDW', 'center_point')\n",
    "\n",
    "pycml.vis.pcolormesh(interpol)\n",
    "pycml.vis.interactive_map(interpol, cml_list)\n",
    "\n",
    "# Export\n",
    "interpol.to_netcdf('rainfall_fields_test.nc')\n",
    "\n",
    "############\n",
    "# Validate #\n",
    "############\n",
    "validator = pycml.validate.Validator(cmlp_list, gauges)\n",
    "# or\n",
    "validator = pycml.validate.cml_vs_gauge(cmlp_list, gauges)\n",
    "\n",
    "cml_wet_dry_error_list = validator.get_wet_dry_error()\n",
    "\n",
    "cml_gauge_pairs = validator.get_pairs()\n",
    "\n",
    "#################################\n",
    "# Optimize/calibrate processing #\n",
    "#################################\n",
    "\n"
   ]
  }
 ],
 "metadata": {
  "kernelspec": {
   "display_name": "Python 2",
   "language": "python",
   "name": "python2"
  },
  "language_info": {
   "codemirror_mode": {
    "name": "ipython",
    "version": 2
   },
   "file_extension": ".py",
   "mimetype": "text/x-python",
   "name": "python",
   "nbconvert_exporter": "python",
   "pygments_lexer": "ipython2",
   "version": "2.7.12"
  }
 },
 "nbformat": 4,
 "nbformat_minor": 0
}
